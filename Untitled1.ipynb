{
  "nbformat": 4,
  "nbformat_minor": 0,
  "metadata": {
    "kernelspec": {
      "display_name": "Python 3",
      "language": "python",
      "name": "python3"
    },
    "language_info": {
      "codemirror_mode": {
        "name": "ipython",
        "version": 3
      },
      "file_extension": ".py",
      "mimetype": "text/x-python",
      "name": "python",
      "nbconvert_exporter": "python",
      "pygments_lexer": "ipython3",
      "version": "3.7.6"
    },
    "colab": {
      "name": "Untitled1.ipynb",
      "provenance": []
    }
  },
  "cells": [
    {
      "cell_type": "code",
      "metadata": {
        "id": "R-o6RqvpQygK"
      },
      "source": [
        "!pip install opencv-contrib-python\n",
        "!pip install imutils\n",
        "!pip install os-sys"
      ],
      "execution_count": null,
      "outputs": []
    },
    {
      "cell_type": "code",
      "metadata": {
        "id": "nuTpF4MXQygK"
      },
      "source": [
        "import cv2\n",
        "import os\n",
        "import imutils"
      ],
      "execution_count": null,
      "outputs": []
    },
    {
      "cell_type": "code",
      "metadata": {
        "id": "G-T2To87QygK",
        "outputId": "6b964b2c-6ddc-4e20-e061-a1d7c37df4e6"
      },
      "source": [
        "personName = \"Martha\"\n",
        "dataPath = \"D:/yaajo/Documents/pyton(online)/Innovaccion/ReconocimientoFacial/Data\"\n",
        "personPath = dataPath + ' / ' + personName\n",
        "#print(personName)\n",
        "\n",
        "if not os.path.exists(personPath):\n",
        "\tprint('Carpeta creada: ',personPath)\n",
        "\tos.makedirs(personPath)\n",
        "\n",
        "cap = cv2.VideoCapute(\"martha.mp4\")\n",
        "\n",
        "faceClassif = cv2.cascadeClassifier(cv2.data.haarcascades+'haarcascades_frontalface_default.xml')\n",
        "count = 0\n",
        "\n",
        "while True:\n",
        "\tret, frame = cap.read()\n",
        "\tif  ret == False: break\n",
        "\tframe = imutils.resize (frame, width=640)\n",
        "\tgray = cv2.cvtColor(frame, cv2.COLOR_BGR2GRAY)\n",
        "\tauxFrame = frame.copy()\n",
        "\n",
        "\tfaces = faceClassif.detectMultiScale(gray,1.3,5)\n",
        "\n",
        "\tfor (x,y,w,h) in faces:\n",
        "\t\tcv2.rectangle(frame, (x,y),(x+w,y+h),(0,255,0),2)\n",
        "\t\trostro = auxFrame[y:y+h, x:x+w]\n",
        "\t\trostro = cv2.resize(rostro,(150,150),interpolation=cv2.INTER_CUBIC)\n",
        "\t\tcv2.imwrite(personPath + '/rostro_{}.jpg'.format(count),rostro)\n",
        "\t\tcount = count + 1\n",
        "\tcv2.imshow('frame',frame)\n",
        "\n",
        "\tk = cv2.waitKey(1)\n",
        "\tif k == 27 or count >= 200:\n",
        "\t   break\n",
        "\n",
        "cap.release()\n",
        "cv2.destroyAllWindows() "
      ],
      "execution_count": null,
      "outputs": [
        {
          "output_type": "stream",
          "text": [
            "Carpeta creada:  D:/yaajo/Documents/pyton(online)/Innovaccion/ReconocimientoFacial/Data / Martha\n"
          ],
          "name": "stdout"
        },
        {
          "output_type": "error",
          "ename": "FileNotFoundError",
          "evalue": "[WinError 3] El sistema no puede encontrar la ruta especificada: 'D:/yaajo/Documents/pyton(online)/Innovaccion/ReconocimientoFacial/Data / Martha'",
          "traceback": [
            "\u001b[1;31m---------------------------------------------------------------------------\u001b[0m",
            "\u001b[1;31mFileNotFoundError\u001b[0m                         Traceback (most recent call last)",
            "\u001b[1;32m<ipython-input-4-f1578b52df23>\u001b[0m in \u001b[0;36m<module>\u001b[1;34m\u001b[0m\n\u001b[0;32m      6\u001b[0m \u001b[1;32mif\u001b[0m \u001b[1;32mnot\u001b[0m \u001b[0mos\u001b[0m\u001b[1;33m.\u001b[0m\u001b[0mpath\u001b[0m\u001b[1;33m.\u001b[0m\u001b[0mexists\u001b[0m\u001b[1;33m(\u001b[0m\u001b[0mpersonPath\u001b[0m\u001b[1;33m)\u001b[0m\u001b[1;33m:\u001b[0m\u001b[1;33m\u001b[0m\u001b[1;33m\u001b[0m\u001b[0m\n\u001b[0;32m      7\u001b[0m         \u001b[0mprint\u001b[0m\u001b[1;33m(\u001b[0m\u001b[1;34m'Carpeta creada: '\u001b[0m\u001b[1;33m,\u001b[0m\u001b[0mpersonPath\u001b[0m\u001b[1;33m)\u001b[0m\u001b[1;33m\u001b[0m\u001b[1;33m\u001b[0m\u001b[0m\n\u001b[1;32m----> 8\u001b[1;33m         \u001b[0mos\u001b[0m\u001b[1;33m.\u001b[0m\u001b[0mmakedirs\u001b[0m\u001b[1;33m(\u001b[0m\u001b[0mpersonPath\u001b[0m\u001b[1;33m)\u001b[0m\u001b[1;33m\u001b[0m\u001b[1;33m\u001b[0m\u001b[0m\n\u001b[0m\u001b[0;32m      9\u001b[0m \u001b[1;33m\u001b[0m\u001b[0m\n\u001b[0;32m     10\u001b[0m \u001b[0mcap\u001b[0m \u001b[1;33m=\u001b[0m \u001b[0mcv2\u001b[0m\u001b[1;33m.\u001b[0m\u001b[0mVideoCapute\u001b[0m\u001b[1;33m(\u001b[0m\u001b[1;34m\"martha.mp4\"\u001b[0m\u001b[1;33m)\u001b[0m\u001b[1;33m\u001b[0m\u001b[1;33m\u001b[0m\u001b[0m\n",
            "\u001b[1;32mD:\\Users\\yaajo\\anaconda3\\lib\\os.py\u001b[0m in \u001b[0;36mmakedirs\u001b[1;34m(name, mode, exist_ok)\u001b[0m\n\u001b[0;32m    219\u001b[0m             \u001b[1;32mreturn\u001b[0m\u001b[1;33m\u001b[0m\u001b[1;33m\u001b[0m\u001b[0m\n\u001b[0;32m    220\u001b[0m     \u001b[1;32mtry\u001b[0m\u001b[1;33m:\u001b[0m\u001b[1;33m\u001b[0m\u001b[1;33m\u001b[0m\u001b[0m\n\u001b[1;32m--> 221\u001b[1;33m         \u001b[0mmkdir\u001b[0m\u001b[1;33m(\u001b[0m\u001b[0mname\u001b[0m\u001b[1;33m,\u001b[0m \u001b[0mmode\u001b[0m\u001b[1;33m)\u001b[0m\u001b[1;33m\u001b[0m\u001b[1;33m\u001b[0m\u001b[0m\n\u001b[0m\u001b[0;32m    222\u001b[0m     \u001b[1;32mexcept\u001b[0m \u001b[0mOSError\u001b[0m\u001b[1;33m:\u001b[0m\u001b[1;33m\u001b[0m\u001b[1;33m\u001b[0m\u001b[0m\n\u001b[0;32m    223\u001b[0m         \u001b[1;31m# Cannot rely on checking for EEXIST, since the operating system\u001b[0m\u001b[1;33m\u001b[0m\u001b[1;33m\u001b[0m\u001b[1;33m\u001b[0m\u001b[0m\n",
            "\u001b[1;31mFileNotFoundError\u001b[0m: [WinError 3] El sistema no puede encontrar la ruta especificada: 'D:/yaajo/Documents/pyton(online)/Innovaccion/ReconocimientoFacial/Data / Martha'"
          ]
        }
      ]
    },
    {
      "cell_type": "code",
      "metadata": {
        "id": "TYdcTAbpQygL"
      },
      "source": [
        ""
      ],
      "execution_count": null,
      "outputs": []
    },
    {
      "cell_type": "code",
      "metadata": {
        "id": "1MLo136XQygL"
      },
      "source": [
        ""
      ],
      "execution_count": null,
      "outputs": []
    },
    {
      "cell_type": "code",
      "metadata": {
        "id": "vZmlDUwKQygL"
      },
      "source": [
        ""
      ],
      "execution_count": null,
      "outputs": []
    }
  ]
}